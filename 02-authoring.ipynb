{
 "cells": [
  {
   "cell_type": "markdown",
   "metadata": {},
   "source": [
    "#Authoring VOEvent XML packets with ``voevent-parse``#"
   ]
  },
  {
   "cell_type": "code",
   "execution_count": null,
   "metadata": {
    "collapsed": true
   },
   "outputs": [],
   "source": [
    "from __future__ import print_function\n",
    "import voeventparse as vp\n",
    "import datetime"
   ]
  },
  {
   "cell_type": "markdown",
   "metadata": {},
   "source": [
    "(To get started reading VOEvents, see the [previous notebook](01-parsing.ipynb)).\n",
    "\n",
    "##Packet creation##\n",
    "\n",
    "We'll start by creating the skeleton of our VOEvent packet. We set the role to test so that nobody is tempted to start acting on the contents of this demo event. We also set the timestamp in the ``Who`` block to the time the event was generated (not when the observation was made), as per the \n",
    "[specification](http://wiki.ivoa.net/twiki/bin/view/IVOA/VOEventTwoPointZero):"
   ]
  },
  {
   "cell_type": "code",
   "execution_count": null,
   "metadata": {
    "collapsed": true
   },
   "outputs": [],
   "source": [
    "v = vp.Voevent(stream='hotwired.org/gaia_demo', stream_id=1,\n",
    "                       role=vp.definitions.roles.test)"
   ]
  },
  {
   "cell_type": "code",
   "execution_count": null,
   "metadata": {
    "collapsed": false
   },
   "outputs": [],
   "source": [
    "#Set Who.Date timestamp to date of packet-generation:\n",
    "vp.set_who(v, date=datetime.datetime.utcnow(), \n",
    "        author_ivorn=\"foo.hotwired.hotwireduniverse.org/bar\")\n",
    "vp.set_author(v, title=\"Hotwired VOEvent Hands-on\",\n",
    "                      contactName=\"Joe Bloggs\")\n",
    "v.Description = \"This is not an official Gaia data product.\""
   ]
  },
  {
   "cell_type": "markdown",
   "metadata": {},
   "source": [
    "At any time, you can use ``vp.dumps`` (dump-string) to take a look at the VOEvent you've composed so far:"
   ]
  },
  {
   "cell_type": "code",
   "execution_count": null,
   "metadata": {
    "collapsed": false
   },
   "outputs": [],
   "source": [
    "# print(vp.dumps(v, pretty_print=True))"
   ]
  },
  {
   "cell_type": "markdown",
   "metadata": {},
   "source": [
    "However, that's pretty dense! Use ``vp.prettystr`` to view a single element, which is a bit easier on the eyes:"
   ]
  },
  {
   "cell_type": "code",
   "execution_count": null,
   "metadata": {
    "collapsed": false
   },
   "outputs": [],
   "source": [
    "print(vp.prettystr(v.Who))"
   ]
  },
  {
   "cell_type": "markdown",
   "metadata": {},
   "source": [
    "##Adding ``What`` content##\n",
    "\n",
    "We'll add details from this GAIA event:\n",
    "\n",
    "| Name      | UTC timestamp       | RA        | Dec       | AlertMag | HistMag | HistStdDev | Class   | Comment                                                  | Published         |\n",
    "|-----------|---------------------|-----------|-----------|----------|---------|------------|---------|----------------------------------------------------------|-------------------|\n",
    "| Gaia14adi | 2014-11-07 01:05:09 | 168.47841 | -23.01221 | 18.77    | 19.62   | 0.07       | unknown | Fading source on top of 2MASS Galaxy (offset from bulge) | 2 Dec 2014, 13:55 |"
   ]
  },
  {
   "cell_type": "markdown",
   "metadata": {},
   "source": [
    "Now let's add details of the observation itself. We'll record both the magnitude that Gaia is reporting for this particular event, and the historic values they also provide:"
   ]
  },
  {
   "cell_type": "code",
   "execution_count": null,
   "metadata": {
    "collapsed": true
   },
   "outputs": [],
   "source": [
    "v.What.append(vp.Param(name=\"mag\", value=18.77, ucd=\"phot.mag\"))\n",
    "h_m = vp.Param(name=\"hist_mag\", value=19.62, ucd=\"phot.mag\")\n",
    "h_s = vp.Param(name=\"hist_scatter\", value=0.07, ucd=\"phot.mag\")\n",
    "v.What.append(vp.Group(params=[h_m, h_s], name=\"historic\"))"
   ]
  },
  {
   "cell_type": "markdown",
   "metadata": {},
   "source": [
    "##Adding ``WhereWhen`` details##\n",
    "Now we need to specify where and when the observation was made. Rather than trying to specify a position for Gaia, we'll just call it out by name. Note that Gaia don't provide errors on the position they cite, so we're rather optimistically using 0:"
   ]
  },
  {
   "cell_type": "code",
   "execution_count": null,
   "metadata": {
    "collapsed": true
   },
   "outputs": [],
   "source": [
    "vp.add_where_when(v,\n",
    "               coords=vp.Position2D(ra=168.47841, dec=-23.01221, err=0, units='deg',\n",
    "                                    system=vp.definitions.sky_coord_system.fk5),\n",
    "               obs_time=datetime.datetime(2014, 11, 7, 1, 5, 9),\n",
    "               observatory_location=\"Gaia\")"
   ]
  },
  {
   "cell_type": "code",
   "execution_count": null,
   "metadata": {
    "collapsed": false
   },
   "outputs": [],
   "source": [
    "## See how much element creation that routine just saved us(!):\n",
    "# print(vp.prettystr(v.WhereWhen))"
   ]
  },
  {
   "cell_type": "markdown",
   "metadata": {},
   "source": [
    "##Adding the ``How``##\n",
    "We should also describe how this transient was detected, and refer to the name\n",
    "that Gaia have assigned it. Note that we can provide multiple descriptions\n",
    "(and/or references) here:"
   ]
  },
  {
   "cell_type": "code",
   "execution_count": null,
   "metadata": {
    "collapsed": true
   },
   "outputs": [],
   "source": [
    "vp.add_how(v, descriptions=['Scraped from the Gaia website',\n",
    "                                        'This is Gaia14adi'],\n",
    "                       references=vp.Reference(\"http://gsaweb.ast.cam.ac.uk/alerts/\"))"
   ]
  },
  {
   "cell_type": "markdown",
   "metadata": {},
   "source": [
    "##And finally, ``Why``##\n",
    "Finally, we can provide some information about why this even might be scientifically interesting. Gaia haven't provided a classification, but we can at least incorporate the textual description:"
   ]
  },
  {
   "cell_type": "code",
   "execution_count": null,
   "metadata": {
    "collapsed": true
   },
   "outputs": [],
   "source": [
    "vp.add_why(v)\n",
    "v.Why.Description = \"Fading source on top of 2MASS Galaxy (offset from bulge)\""
   ]
  },
  {
   "cell_type": "markdown",
   "metadata": {},
   "source": [
    "##Check and save##\n",
    "Finally - and importantly, as discussed in the [VOEvent notes](http://voevent.readthedocs.org/en/latest/parse.html) - let's make sure that this event is really valid according to our schema:"
   ]
  },
  {
   "cell_type": "code",
   "execution_count": null,
   "metadata": {
    "collapsed": false
   },
   "outputs": [],
   "source": [
    "vp.valid_as_v2_0(v)"
   ]
  },
  {
   "cell_type": "markdown",
   "metadata": {},
   "source": [
    "Great! We can now save it to disk:"
   ]
  },
  {
   "cell_type": "code",
   "execution_count": null,
   "metadata": {
    "collapsed": true
   },
   "outputs": [],
   "source": [
    "with open('gaia.xml', 'w') as f:\n",
    "                vp.dump(v, f)"
   ]
  },
  {
   "cell_type": "markdown",
   "metadata": {},
   "source": [
    "And we're all done. You can open the file in your favourite text editor to see what\n",
    "we've produced, but note that it probably won't be particularly elegantly\n",
    "formatted - an alternative option is to [open it in your browser](my_gaia.xml)."
   ]
  },
  {
   "cell_type": "markdown",
   "metadata": {},
   "source": [
    "##Advanced##\n",
    "###Free-style element authoring###\n",
    "Note that if you want to do something that's not part of the standard use-cases addressed by voevent-parse,\n",
    "you can always use the underlying lxml.objectify tools to manipulate elements yourself.\n",
    "For example - don't like the 'voevent-parse' tag that gets added to your VOEvent Who skeleton? You can delete it:"
   ]
  },
  {
   "cell_type": "code",
   "execution_count": null,
   "metadata": {
    "collapsed": false
   },
   "outputs": [],
   "source": [
    "## Before deletion:\n",
    "## (Enclosed in an if-clause in case this is re-run after the cell below)\n",
    "if hasattr(v.Who, 'Description'): \n",
    "    print(v.Who.Description)"
   ]
  },
  {
   "cell_type": "code",
   "execution_count": null,
   "metadata": {
    "collapsed": false
   },
   "outputs": [],
   "source": [
    "if hasattr(v.Who, 'Description'):\n",
    "    del v.Who.Description\n",
    "#Now it's gone!\n",
    "print(vp.prettystr(v.Who))"
   ]
  },
  {
   "cell_type": "markdown",
   "metadata": {},
   "source": [
    "Want to add some additional elements of your own? \n",
    "Here's how, but: make sure you stick to the VOEvent schema!"
   ]
  },
  {
   "cell_type": "code",
   "execution_count": null,
   "metadata": {
    "collapsed": true
   },
   "outputs": [],
   "source": [
    "import lxml.objectify as objectify"
   ]
  },
  {
   "cell_type": "code",
   "execution_count": null,
   "metadata": {
    "collapsed": false
   },
   "outputs": [],
   "source": [
    "# This won't last long:\n",
    "vp.valid_as_v2_0(v)"
   ]
  },
  {
   "cell_type": "markdown",
   "metadata": {},
   "source": [
    "If you just want a single text-value element (with no siblings of the same name), you can take a syntactic shortcut and simply assign to it: \n",
    "\n",
    "*(Under the hood this assigns a new child ``StringElement`` to that tag - if there are pre-existing elements with that same tag, it is assigned to the first position in the list)*"
   ]
  },
  {
   "cell_type": "code",
   "execution_count": null,
   "metadata": {
    "collapsed": false
   },
   "outputs": [],
   "source": [
    "v.What.shortcut='some text assigned in a quick-and-dirty fashion'\n",
    "print (vp.prettystr(v.What))"
   ]
  },
  {
   "cell_type": "markdown",
   "metadata": {},
   "source": [
    "In general, though, you probably want to use [SubElement](http://lxml.de/objectify.html#the-lxml-objectify-api), \n",
    "as this allows you to create multiple sibling-child elements of the same name, etc."
   ]
  },
  {
   "cell_type": "code",
   "execution_count": null,
   "metadata": {
    "collapsed": false
   },
   "outputs": [],
   "source": [
    "for i in range(5):\n",
    "    objectify.SubElement(v.What, 'foo')\n",
    "    v.What.foo[-1]=\"foo{}\".format(i)\n",
    "print(\"I have {} foos for you:\".format(len(v.What.foo)))\n",
    "print (vp.prettystr(v.What))"
   ]
  },
  {
   "cell_type": "code",
   "execution_count": null,
   "metadata": {
    "collapsed": true
   },
   "outputs": [],
   "source": [
    "# Get rid of all the foo:\n",
    "del v.What.foo[:]"
   ]
  },
  {
   "cell_type": "markdown",
   "metadata": {},
   "source": [
    "Alternatively, you can create elements independently, then append them to a parent (remember how lxml.objectify pretends elements are lists?) - this is occasionally useful if you want to write a function that returns an element, e.g. to create a new [Param](http://voevent-parse.readthedocs.org/en/master/reference.html#voeventparse.misc.Param) (but voevent-parse wraps that up for you already):"
   ]
  },
  {
   "cell_type": "code",
   "execution_count": null,
   "metadata": {
    "collapsed": false
   },
   "outputs": [],
   "source": [
    "temp = objectify.Element('NonSchemaCompliantParam', attrib={'somekey':'somevalue'})\n",
    "v.What.append(temp)\n",
    "print(vp.prettystr(v.What))"
   ]
  },
  {
   "cell_type": "markdown",
   "metadata": {},
   "source": [
    "Obviously, these are non-schema compliant elements.\n",
    "Don't make up your own format - use Params for storing general data:"
   ]
  },
  {
   "cell_type": "code",
   "execution_count": null,
   "metadata": {
    "collapsed": false
   },
   "outputs": [],
   "source": [
    "vp.valid_as_v2_0(v)"
   ]
  },
  {
   "cell_type": "markdown",
   "metadata": {},
   "source": [
    "Note that you can get a traceback if you need to figure out why a VOEvent is non-schema-compliant - this will report the first invalid element it comes across:"
   ]
  },
  {
   "cell_type": "code",
   "execution_count": null,
   "metadata": {
    "collapsed": false
   },
   "outputs": [],
   "source": [
    "vp.assert_valid_as_v2_0(v)"
   ]
  }
 ],
 "metadata": {
  "kernelspec": {
   "display_name": "Python 2",
   "language": "python",
   "name": "python2"
  },
  "language_info": {
   "codemirror_mode": {
    "name": "ipython",
    "version": 2
   },
   "file_extension": ".py",
   "mimetype": "text/x-python",
   "name": "python",
   "nbconvert_exporter": "python",
   "pygments_lexer": "ipython2",
   "version": "2.7.6"
  }
 },
 "nbformat": 4,
 "nbformat_minor": 0
}
